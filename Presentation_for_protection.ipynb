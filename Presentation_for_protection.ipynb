{
 "cells": [
  {
   "cell_type": "code",
   "execution_count": 6,
   "metadata": {
    "slideshow": {
     "slide_type": "skip"
    }
   },
   "outputs": [],
   "source": [
    "alt.renderers.enable('notebook')"
   ]
  },
  {
   "cell_type": "code",
   "execution_count": 7,
   "metadata": {
    "slideshow": {
     "slide_type": "skip"
    }
   },
   "outputs": [],
   "source": [
    "from sklearn import tree\n",
    "import pandas as pd\n",
    "import matplotlib.pyplot as plt\n",
    "import seaborn as sns\n",
    "%matplotlib inline"
   ]
  },
  {
   "cell_type": "markdown",
   "metadata": {
    "slideshow": {
     "slide_type": "slide"
    }
   },
   "source": [
    "<h1 align='center'> \n",
    "    Предсказательные инструменты машинного обучения при анализе данных обучения на онлайн-курсах \n",
    "</h1>  \n",
    "  \n",
    "<br />  \n",
    "\n",
    "<div align='right'>\n",
    "    Магистрант 2 курса\n",
    "    <br />\n",
    "    <i>\n",
    "        Никандров Алексей Андреевич\n",
    "    </i>\n",
    "</div>\n",
    "\n",
    "<br />  \n",
    "\n",
    "<div align='right'>\n",
    "    Руководитель выпускной квалификационной работы:\n",
    "    <br />  \n",
    "    Доктор педагогических наук, профессор\n",
    "    <br />  \n",
    "    <i>\n",
    "        Пиотровская Ксения Раймондовна\n",
    "    </i>\n",
    "</div>"
   ]
  },
  {
   "cell_type": "markdown",
   "metadata": {
    "slideshow": {
     "slide_type": "slide"
    }
   },
   "source": [
    "<div align=\"center\">\n",
    "    Каждые два года объём хранимой информации увеличивается ~ в два раза. \n",
    "    <img width=800px src=\"https://www.oreilly.com/radar/wp-content/uploads/sites/3/2019/06/Figure2-22-33e23549592a32d6c0e8cee505dfbcd1.jpg\">\n",
    "</div>"
   ]
  },
  {
   "cell_type": "markdown",
   "metadata": {
    "slideshow": {
     "slide_type": "slide"
    }
   },
   "source": [
    "<div align=\"justify\">\n",
    "    Стоит рассмотреть возможность использовать накопленные данные в образовании. Например, при обучении математике.\n",
    "</div>"
   ]
  },
  {
   "cell_type": "markdown",
   "metadata": {
    "slideshow": {
     "slide_type": "slide"
    }
   },
   "source": [
    "<div align=\"justify\">\n",
    "    Много данных об учебной активности студентов сохраняется в электронном виде, но в настоящий момент это не способствует образовательному процессу, что является <strong>проблемой</strong>.\n",
    "</div>"
   ]
  },
  {
   "cell_type": "markdown",
   "metadata": {
    "slideshow": {
     "slide_type": "slide"
    }
   },
   "source": [
    "<div style=\"justify\">\n",
    "    <strong>Актуальность</strong> исследования определяется высокой степенью необходимости отыскания корректного способа использования данных обучения на онлайн-курсах. \n",
    "</div>"
   ]
  },
  {
   "cell_type": "markdown",
   "metadata": {
    "slideshow": {
     "slide_type": "slide"
    }
   },
   "source": [
    "<div align=\"center\">\n",
    "    <strong>Объект</strong> исследования — процесс обучения на онлайн-курсах.\n",
    "</div>"
   ]
  },
  {
   "cell_type": "markdown",
   "metadata": {
    "slideshow": {
     "slide_type": "slide"
    }
   },
   "source": [
    "<div align=\"center\">\n",
    "    <strong>Предметом</strong> исследования являются предсказательные инструменты как способ анализа данных обучения на онлайн-курсах.\n",
    "</div>"
   ]
  },
  {
   "cell_type": "markdown",
   "metadata": {
    "slideshow": {
     "slide_type": "slide"
    }
   },
   "source": [
    "<div align=\"justify\">\n",
    "    <strong>Цель</strong> данной работы собрать и провести анализ актуальных данных с онлайн-курсов с помощью подобранных предсказательных инструментов для получения обученной прогностической модели с последующей оптимизацией организации онлайн-курсов и персонификации обучения, а также изучения перспектив, способствующих улучшению показателей последующих студентов.\n",
    "</div>"
   ]
  },
  {
   "cell_type": "markdown",
   "metadata": {
    "slideshow": {
     "slide_type": "slide"
    }
   },
   "source": [
    "<div align=\"center\">\n",
    "    <strong>Задачи исследования.</strong>\n",
    "</div>"
   ]
  },
  {
   "cell_type": "markdown",
   "metadata": {
    "slideshow": {
     "slide_type": "fragment"
    }
   },
   "source": [
    "1. Дать определение основных понятий, связанных с анализом данных и предсказательными инструментами."
   ]
  },
  {
   "cell_type": "markdown",
   "metadata": {
    "slideshow": {
     "slide_type": "fragment"
    }
   },
   "source": [
    "2. Исследовать возможные подходы для построения прогностических моделей в сфере образования."
   ]
  },
  {
   "cell_type": "markdown",
   "metadata": {
    "slideshow": {
     "slide_type": "fragment"
    }
   },
   "source": [
    "3. Изучив потенциал языка программирования Python как инструмента анализа данных, получить представление о функционале библиотек языка Python."
   ]
  },
  {
   "cell_type": "markdown",
   "metadata": {
    "slideshow": {
     "slide_type": "fragment"
    }
   },
   "source": [
    "4. Собрать и провести обработку данных на онлайн-курсе «Основы математической обработки информации»."
   ]
  },
  {
   "cell_type": "markdown",
   "metadata": {
    "slideshow": {
     "slide_type": "fragment"
    }
   },
   "source": [
    "5. Осуществление показательной классификации на две группы при проведении анализа результатов студенческих работ."
   ]
  },
  {
   "cell_type": "markdown",
   "metadata": {
    "slideshow": {
     "slide_type": "slide"
    }
   },
   "source": [
    "<div align='justify'>\n",
    "    В данной работе при решении задачи «дать определение основных понятий, связанных с анализом данных и предсказательными инструментами» было рассмотрено: \n",
    "</div>"
   ]
  },
  {
   "cell_type": "markdown",
   "metadata": {
    "slideshow": {
     "slide_type": "fragment"
    }
   },
   "source": [
    "• раздел информатики «Наука о данных»;"
   ]
  },
  {
   "cell_type": "markdown",
   "metadata": {
    "slideshow": {
     "slide_type": "fragment"
    }
   },
   "source": [
    "• определение машинного обучения;"
   ]
  },
  {
   "cell_type": "markdown",
   "metadata": {
    "slideshow": {
     "slide_type": "fragment"
    }
   },
   "source": [
    "• понятие «алгоритм машинного обучения»;"
   ]
  },
  {
   "cell_type": "markdown",
   "metadata": {
    "slideshow": {
     "slide_type": "fragment"
    }
   },
   "source": [
    "• категории машинного обучения, а именно: обучение с учителем, обучение без учителя и обучение с подкреплением;"
   ]
  },
  {
   "cell_type": "markdown",
   "metadata": {
    "slideshow": {
     "slide_type": "fragment"
    }
   },
   "source": [
    "• составляющие машинного обучения."
   ]
  },
  {
   "cell_type": "markdown",
   "metadata": {
    "slideshow": {
     "slide_type": "slide"
    }
   },
   "source": [
    "<div aling='justify'>\n",
    "    Вторая задача «исследовать возможные подходы для построения прогностических моделей в сфере образования» требует применения содержимого предыдущей задачи и теоретического аппарата публикаций на соответствующую тему, все из которых находятся в списке литературы. В рамках данной диссертации сделан упор на:\n",
    "</div>            "
   ]
  },
  {
   "cell_type": "markdown",
   "metadata": {
    "slideshow": {
     "slide_type": "fragment"
    }
   },
   "source": [
    "• дерево решений;"
   ]
  },
  {
   "cell_type": "markdown",
   "metadata": {
    "slideshow": {
     "slide_type": "fragment"
    }
   },
   "source": [
    "• случайный лес, фундаментом которого является дерево решений."
   ]
  },
  {
   "cell_type": "markdown",
   "metadata": {
    "slideshow": {
     "slide_type": "fragment"
    }
   },
   "source": [
    "<div align='justify'>\n",
    "    В дополнение к двум перечисленным подходам рассмотрены их метрики оценки качества.\n",
    "</div>"
   ]
  },
  {
   "cell_type": "markdown",
   "metadata": {
    "slideshow": {
     "slide_type": "slide"
    }
   },
   "source": [
    "<div aling='justify'>\n",
    "    Следующая задача «изучив потенциал языка программирования Python как инструмента анализа данных, получить представление о функционале библиотек языка Python» включает в себя знакомство со следующими библиотеками:\n",
    "</div>"
   ]
  },
  {
   "cell_type": "markdown",
   "metadata": {
    "slideshow": {
     "slide_type": "fragment"
    }
   },
   "source": [
    "• Pandas. Библиотека, которая используется для работы с датафреймами. Отвечает за исследование данных, их структурирование, фильтрацию, агрегацию;"
   ]
  },
  {
   "cell_type": "markdown",
   "metadata": {
    "slideshow": {
     "slide_type": "fragment"
    }
   },
   "source": [
    "• Библиотеки для визуализации данных, а именно: Matplotlib, Seaborn;"
   ]
  },
  {
   "cell_type": "markdown",
   "metadata": {
    "slideshow": {
     "slide_type": "fragment"
    }
   },
   "source": [
    "• Scikit-learn. Библиотека для машинного обучения."
   ]
  },
  {
   "cell_type": "markdown",
   "metadata": {
    "slideshow": {
     "slide_type": "fragment"
    }
   },
   "source": [
    "<div aling='justify'>\n",
    "    Возможности библиотек реализуются в интерактивном веб-инструменте Jupyter notebook.\n",
    "</div>"
   ]
  },
  {
   "cell_type": "markdown",
   "metadata": {
    "slideshow": {
     "slide_type": "slide"
    }
   },
   "source": [
    "<div align='justify'>\n",
    "    Выполнение четвёртой задачи «собрать и провести обработку данных на онлайн-курсе «Основы математической обработки информации» заключалось в привлечении образовательной активности студентов двух потоков (58 человек за 2019-2020 и 56 за 2020-2021 года) на онлайн-курсе «Основы математической обработки информации» системы Herzen Moodle.\n",
    "</div>"
   ]
  },
  {
   "cell_type": "markdown",
   "metadata": {
    "slideshow": {
     "slide_type": "slide"
    }
   },
   "source": [
    "<div align='justify'>\n",
    "    Последняя задача «осуществление показательной классификации на две группы при проведении анализа результатов студенческих работ» разбивается на две подзадачи, а именно: подбор признаков и поиск целевой переменной, обучение предсказательного инструмента.\n",
    "</div>"
   ]
  },
  {
   "cell_type": "markdown",
   "metadata": {
    "slideshow": {
     "slide_type": "slide"
    }
   },
   "source": [
    "<div align='justify'>\n",
    "    Под признаками в данной диссертации использовались баллы за ЕГЭ по 3 предметам: русский язык, обществознание и иностранный язык. Они были в свободном доступе на сайте РГПУ им. А. И. Герцена. Целевая переменная – результаты одной задачи определённой темы дисциплины «Основы математической обработки информации» (с двумя возможными исходами: сдал, не сдал или 0, 1).\n",
    "</div>"
   ]
  },
  {
   "cell_type": "markdown",
   "metadata": {
    "slideshow": {
     "slide_type": "slide"
    }
   },
   "source": [
    "<div align='justify'>\n",
    "    После извлечения, обработки признаков и их сопоставления со значениями целевой переменной (сопоставление проводилось по ФИО студентов) удалось обучить предсказательный инструмент (модель) дерево решений.\n",
    "</div>"
   ]
  },
  {
   "cell_type": "markdown",
   "metadata": {
    "slideshow": {
     "slide_type": "slide"
    }
   },
   "source": [
    "<div align='justify'>\n",
    "    При передаче обученным моделям новых (ранее невиданных) сведений студентов о ЕГЭ можно будет узнать ещё до начала занятий их прогнозируемые показатели по определённой задаче дисциплины. Тем самым уделить больше внимания потенциально сложным темам (по которым будут даны потенциально сложные задачи).\n",
    "</div>"
   ]
  },
  {
   "cell_type": "markdown",
   "metadata": {
    "slideshow": {
     "slide_type": "slide"
    }
   },
   "source": [
    "<h1 align='center'> Спасибо за внимание! </h1>"
   ]
  }
 ],
 "metadata": {
  "celltoolbar": "Слайд-шоу",
  "kernelspec": {
   "display_name": "Python 3",
   "language": "python",
   "name": "python3"
  },
  "language_info": {
   "codemirror_mode": {
    "name": "ipython",
    "version": 3
   },
   "file_extension": ".py",
   "mimetype": "text/x-python",
   "name": "python",
   "nbconvert_exporter": "python",
   "pygments_lexer": "ipython3",
   "version": "3.8.8"
  }
 },
 "nbformat": 4,
 "nbformat_minor": 4
}
