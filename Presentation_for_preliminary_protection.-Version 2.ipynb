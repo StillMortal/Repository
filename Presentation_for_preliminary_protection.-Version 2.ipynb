{
 "cells": [
  {
   "cell_type": "code",
   "execution_count": 6,
   "metadata": {
    "slideshow": {
     "slide_type": "skip"
    }
   },
   "outputs": [],
   "source": [
    "alt.renderers.enable('notebook')"
   ]
  },
  {
   "cell_type": "code",
   "execution_count": 7,
   "metadata": {
    "slideshow": {
     "slide_type": "skip"
    }
   },
   "outputs": [],
   "source": [
    "from sklearn import tree\n",
    "import pandas as pd\n",
    "import matplotlib.pyplot as plt\n",
    "import seaborn as sns\n",
    "%matplotlib inline"
   ]
  },
  {
   "cell_type": "markdown",
   "metadata": {
    "slideshow": {
     "slide_type": "slide"
    }
   },
   "source": [
    "<h1 align='center'> Предсказательные инструменты машинного обучения при анализе данных обучения на онлайн-курсах </h1>\n",
    "\n",
    "\n",
    "\n",
    "Никандров Алексей Андреевич\n",
    "\n",
    "Научный руководитель: доктор педагогических наук, доцент Пиотровская Ксения Раймондовна"
   ]
  },
  {
   "cell_type": "markdown",
   "metadata": {
    "slideshow": {
     "slide_type": "slide"
    }
   },
   "source": [
    "<div align=\"center\">\n",
    "    Каждые два года объём хранимой информации увеличивается ~ в два раза. \n",
    "    <img width=800px src=\"https://www.oreilly.com/radar/wp-content/uploads/sites/3/2019/06/Figure2-22-33e23549592a32d6c0e8cee505dfbcd1.jpg\">\n",
    "</div>"
   ]
  },
  {
   "cell_type": "markdown",
   "metadata": {
    "slideshow": {
     "slide_type": "slide"
    }
   },
   "source": [
    "<div align=\"center\">\n",
    "    Стоит рассмотреть возможность использовать накопленные данные в образовании. Например, при обучении математике.\n",
    "</div>"
   ]
  },
  {
   "cell_type": "markdown",
   "metadata": {
    "slideshow": {
     "slide_type": "slide"
    }
   },
   "source": [
    "<div align=\"center\">\n",
    "    <strong>Актуальность</strong> темы настоящей магистерской диссертации определяется степенью необходимости отыскания корректного способа использования данных обучения на онлайн-курсах.\n",
    "</div>"
   ]
  },
  {
   "cell_type": "markdown",
   "metadata": {
    "slideshow": {
     "slide_type": "slide"
    }
   },
   "source": [
    "<div align=\"center\">\n",
    "    <strong>Объект</strong> исследования — данные обучения на онлайн-курсах.\n",
    "</div>"
   ]
  },
  {
   "cell_type": "markdown",
   "metadata": {
    "slideshow": {
     "slide_type": "slide"
    }
   },
   "source": [
    "<div align=\"center\">\n",
    "    <strong>Предметом</strong> исследования являются предсказательные инструменты как способ анализа данных обучения на онлайн-курсах.\n",
    "</div>"
   ]
  },
  {
   "cell_type": "markdown",
   "metadata": {
    "slideshow": {
     "slide_type": "slide"
    }
   },
   "source": [
    "<div align=\"center\">\n",
    "    Анализ данных обучения на онлайн-курсах для повышения уровня успеваемости обучающихся по математике есть <strong>цель</strong> данной работы.\n",
    "</div>"
   ]
  },
  {
   "cell_type": "markdown",
   "metadata": {
    "slideshow": {
     "slide_type": "slide"
    }
   },
   "source": [
    "<div align=\"center\">\n",
    "    <strong>Задачи исследования.</strong>\n",
    "</div>"
   ]
  },
  {
   "cell_type": "markdown",
   "metadata": {
    "slideshow": {
     "slide_type": "fragment"
    }
   },
   "source": [
    "1. Дать определение основных понятий, связанных с предсказательными инструментами и анализом данных."
   ]
  },
  {
   "cell_type": "markdown",
   "metadata": {
    "slideshow": {
     "slide_type": "fragment"
    }
   },
   "source": [
    "2. Описание возможных подходов к решению поставленной задачи."
   ]
  },
  {
   "cell_type": "markdown",
   "metadata": {
    "slideshow": {
     "slide_type": "fragment"
    }
   },
   "source": [
    "3. Изучить потенциал языка программирования Python как инструмент анализа данных."
   ]
  },
  {
   "cell_type": "markdown",
   "metadata": {
    "slideshow": {
     "slide_type": "fragment"
    }
   },
   "source": [
    "4. Проанализировать библиотеки языка Python для решения поставленной проблемы."
   ]
  },
  {
   "cell_type": "markdown",
   "metadata": {
    "slideshow": {
     "slide_type": "fragment"
    }
   },
   "source": [
    "5. Предобработка собранных данных."
   ]
  },
  {
   "cell_type": "markdown",
   "metadata": {
    "slideshow": {
     "slide_type": "fragment"
    }
   },
   "source": [
    "6. Анализ собранных данных."
   ]
  },
  {
   "cell_type": "markdown",
   "metadata": {
    "slideshow": {
     "slide_type": "fragment"
    }
   },
   "source": [
    "7. Выдвижение критериев «успеха» при формулировании математических задач для нематематических направлений ВУЗов на основе проведенного эксперимента."
   ]
  },
  {
   "cell_type": "markdown",
   "metadata": {
    "slideshow": {
     "slide_type": "slide"
    }
   },
   "source": [
    "<h1 align=\"center\">\n",
    "    Использование решающих деревьев\n",
    "</h1>"
   ]
  },
  {
   "cell_type": "markdown",
   "metadata": {
    "slideshow": {
     "slide_type": "fragment"
    }
   },
   "source": [
    "<div align=\"center\">\n",
    "Например, использование методов математики для особо результативного решения задач, возникающих в сфере экономики, с применением как правило, актуальных компьютерных технологий. В том числе задач, связанных с предсказанием потенциально положительного или отрицательного клиента.\n",
    "</div>"
   ]
  },
  {
   "cell_type": "markdown",
   "metadata": {
    "slideshow": {
     "slide_type": "fragment"
    }
   },
   "source": [
    "<div align=\"center\">\n",
    "    <img width=800px src=\"https://i.vas3k.ru/7rd.jpg\">\n",
    "</div>"
   ]
  },
  {
   "cell_type": "markdown",
   "metadata": {
    "slideshow": {
     "slide_type": "slide"
    }
   },
   "source": [
    "<div align=\"center\">    \n",
    "    <img width=800px src=\"https://lh3.googleusercontent.com/proxy/A3lS9UN_qsnNOjEyK0Ti9ZxZ4hKQ72YbOB2NCQDV_UYGDEvg8t4XVP8SRRwdkwXUdiUPdp3cTv0MeCbln7iLxTjA69YS\">\n",
    "</div>"
   ]
  },
  {
   "cell_type": "markdown",
   "metadata": {
    "slideshow": {
     "slide_type": "slide"
    }
   },
   "source": [
    "<div align=\"center\">    \n",
    "    <img width=800px src=\"https://loginom.ru/sites/default/files/blogpost-files/activation-function.svg\">\n",
    "</div>"
   ]
  },
  {
   "cell_type": "markdown",
   "metadata": {
    "slideshow": {
     "slide_type": "slide"
    }
   },
   "source": [
    "<div align=\"center\">    \n",
    "    <img width=800px src=\"https://cdn-images-1.medium.com/max/800/1*xLKdaL_RFhqFuy1iKSXvXA.png\">\n",
    "</div>"
   ]
  },
  {
   "cell_type": "markdown",
   "metadata": {
    "slideshow": {
     "slide_type": "slide"
    }
   },
   "source": [
    "<div align=\"center\">\n",
    "Если в экономике подобные инструменты применяются уже не первый год, то почему бы в образовании на раннем этапе не определять\n",
    "потенциально успешного или неуспешного студента? \n",
    "Точнее на основании признаков отдельной группы студентов определять потенциально сложные разделы дисциплины.\n",
    "Тем самым заблаговременно вносить корректировки в учебный план для повышения общей успеваемости.\n",
    "</div>"
   ]
  },
  {
   "cell_type": "markdown",
   "metadata": {
    "slideshow": {
     "slide_type": "slide"
    }
   },
   "source": [
    "<div align=\"center\">\n",
    "В качестве базового примера можно рассмотреть всего лишь 3 столбца:\n",
    "</div>"
   ]
  },
  {
   "cell_type": "code",
   "execution_count": 8,
   "metadata": {
    "slideshow": {
     "slide_type": "fragment"
    }
   },
   "outputs": [],
   "source": [
    "data = pd.DataFrame({'X_1': [1, 1, 1, 0, 0, 0, 0, 1], 'X_2': [0, 0, 0, 1, 0, 0, 0, 1], 'Y': [1, 1, 1, 1, 0, 0, 0, 0]})"
   ]
  },
  {
   "cell_type": "markdown",
   "metadata": {
    "slideshow": {
     "slide_type": "fragment"
    }
   },
   "source": [
    "<div align=\"center\">    \n",
    "    X_1, X_2 - два признака. На основании признаков присваивается класс Y.\n",
    "</div>"
   ]
  },
  {
   "cell_type": "code",
   "execution_count": 9,
   "metadata": {
    "slideshow": {
     "slide_type": "fragment"
    }
   },
   "outputs": [
    {
     "data": {
      "text/html": [
       "<div>\n",
       "<style scoped>\n",
       "    .dataframe tbody tr th:only-of-type {\n",
       "        vertical-align: middle;\n",
       "    }\n",
       "\n",
       "    .dataframe tbody tr th {\n",
       "        vertical-align: top;\n",
       "    }\n",
       "\n",
       "    .dataframe thead th {\n",
       "        text-align: right;\n",
       "    }\n",
       "</style>\n",
       "<table border=\"1\" class=\"dataframe\">\n",
       "  <thead>\n",
       "    <tr style=\"text-align: right;\">\n",
       "      <th></th>\n",
       "      <th>X_1</th>\n",
       "      <th>X_2</th>\n",
       "      <th>Y</th>\n",
       "    </tr>\n",
       "  </thead>\n",
       "  <tbody>\n",
       "    <tr>\n",
       "      <th>0</th>\n",
       "      <td>1</td>\n",
       "      <td>0</td>\n",
       "      <td>1</td>\n",
       "    </tr>\n",
       "    <tr>\n",
       "      <th>1</th>\n",
       "      <td>1</td>\n",
       "      <td>0</td>\n",
       "      <td>1</td>\n",
       "    </tr>\n",
       "    <tr>\n",
       "      <th>2</th>\n",
       "      <td>1</td>\n",
       "      <td>0</td>\n",
       "      <td>1</td>\n",
       "    </tr>\n",
       "    <tr>\n",
       "      <th>3</th>\n",
       "      <td>0</td>\n",
       "      <td>1</td>\n",
       "      <td>1</td>\n",
       "    </tr>\n",
       "    <tr>\n",
       "      <th>4</th>\n",
       "      <td>0</td>\n",
       "      <td>0</td>\n",
       "      <td>0</td>\n",
       "    </tr>\n",
       "    <tr>\n",
       "      <th>5</th>\n",
       "      <td>0</td>\n",
       "      <td>0</td>\n",
       "      <td>0</td>\n",
       "    </tr>\n",
       "    <tr>\n",
       "      <th>6</th>\n",
       "      <td>0</td>\n",
       "      <td>0</td>\n",
       "      <td>0</td>\n",
       "    </tr>\n",
       "    <tr>\n",
       "      <th>7</th>\n",
       "      <td>1</td>\n",
       "      <td>1</td>\n",
       "      <td>0</td>\n",
       "    </tr>\n",
       "  </tbody>\n",
       "</table>\n",
       "</div>"
      ],
      "text/plain": [
       "   X_1  X_2  Y\n",
       "0    1    0  1\n",
       "1    1    0  1\n",
       "2    1    0  1\n",
       "3    0    1  1\n",
       "4    0    0  0\n",
       "5    0    0  0\n",
       "6    0    0  0\n",
       "7    1    1  0"
      ]
     },
     "execution_count": 9,
     "metadata": {},
     "output_type": "execute_result"
    }
   ],
   "source": [
    "data"
   ]
  },
  {
   "cell_type": "code",
   "execution_count": 15,
   "metadata": {
    "slideshow": {
     "slide_type": "slide"
    }
   },
   "outputs": [],
   "source": [
    "# На основании 3 столбцов уже можно обучить дерево решений (модель для предсказаний)\n",
    "\n",
    "clf = tree.DecisionTreeClassifier(criterion='entropy') # В переменную clf сохраним необученное дерево решений:\n",
    "\n",
    "X = data[['X_1', 'X_2']] # Данные, которые используем для обучения\n",
    "y = data.Y # То, что предсказываем\n",
    "\n",
    "trained_tree = clf.fit(X, y) # Передаём признаки и целевую переменную"
   ]
  },
  {
   "cell_type": "code",
   "execution_count": 16,
   "metadata": {
    "slideshow": {
     "slide_type": "slide"
    }
   },
   "outputs": [
    {
     "data": {
      "image/png": "[encoded data removed]",
      "text/plain": [
       "<Figure size 750x750 with 1 Axes>"
      ]
     },
     "metadata": {
      "needs_background": "light"
     },
     "output_type": "display_data"
    }
   ],
   "source": [
    "fig, axes = plt.subplots(nrows = 1,ncols = 1,figsize = (5,5), dpi=150)\n",
    "\n",
    "tree.plot_tree(clf, feature_names=list(X),\n",
    "               class_names=['Negative', 'Positive'],\n",
    "               filled=True);"
   ]
  },
  {
   "cell_type": "markdown",
   "metadata": {
    "slideshow": {
     "slide_type": "slide"
    }
   },
   "source": [
    "<div align=\"center\">\n",
    "    Получили обученное дерево решений.\n",
    "    <img width=1000px src=\"https://melmagazine.com/wp-content/uploads/2019/07/Stonks_Meme.jpg\">\n",
    "</div>"
   ]
  },
  {
   "cell_type": "markdown",
   "metadata": {
    "slideshow": {
     "slide_type": "slide"
    }
   },
   "source": [
    "И джини, и энтропия являются мерами \"чистоты\" узла. Узел, имеющий несколько классов, нечист, тогда как узел, имеющий только один класс, чист. Энтропия в статистике аналогична энтропии в термодинамике, где она означает беспорядок. Если в узле есть несколько классов, в этом узле есть беспорядок.\n",
    "\n",
    "<em>Gini</em> = $1 - \\sum^{n}_{i=1} p^2(c_i)$\n",
    "\n",
    "<em>Entropy</em> = $\\sum^{n}_{i=1} -p(c_i)\\log_2(p(c_i))$\n",
    "\n",
    "где $p(c_i)$ - вероятность/процент класса $c_i$ в вершине.\n",
    "\n",
    "fig, axes = plt.subplots(nrows = 1,ncols = 1,figsize = (5,5), dpi=150)\n",
    "\n",
    "tree.plot_tree(clf, feature_names=list(X),\n",
    "               class_names=['Negative', 'Positive'],\n",
    "               filled=True);"
   ]
  },
  {
   "cell_type": "markdown",
   "metadata": {
    "slideshow": {
     "slide_type": "slide"
    }
   },
   "source": [
    "<div align=\"center\">\n",
    "У дерева решений есть свои недостатки. Основное из них - переобучение, \n",
    "выражающееся в попытке безошибочно разделить исходные данные. В таком случае дерево решений не находит закономерность,\n",
    "которую можно использовать на новых данных. Бороться с этим можно разными способами. Например, ограничением глубины дерева.\n",
    "Тогда тренировочные данные с бОльшим успехом могут позволить найти закономерность.\n",
    "</div>"
   ]
  },
  {
   "cell_type": "markdown",
   "metadata": {
    "slideshow": {
     "slide_type": "slide"
    }
   },
   "source": [
    "<div align=\"center\">\n",
    "На дереве решений всё не заканчивается. Существуют более продвинутые методы на их основе. Одним из таких является <strong>случайный лес</strong> конца 90-х - начала 2000-х. Если коротко, то случайный лес работает по принципу парламента. \n",
    "В таком случае данные не передаются одному дереву решений, а распределяются между множеством деревьев решений.\n",
    "При чём распределение может происходить в случайной пропорции (от этого и название), \n",
    "то есть одно дерево решений может получить 1, 4, 5 признаки и 100 первых наблюдений, а второе - 5, 6, 8 признаки и 200 последних наблюдений (при распределении возможны пересечения). В итоге каждое из деревьев выносит свой приговор. На основании большинства происходит окончательное решение.\n",
    "</div>"
   ]
  },
  {
   "cell_type": "markdown",
   "metadata": {
    "slideshow": {
     "slide_type": "slide"
    }
   },
   "source": [
    "<div align=\"center\">\n",
    "    В моём случае были собраны, предобработаны и проанализированы данные более 100 студентов (58 за 2019-2020 года и 56 за 2020-2021) одного из онлайн-курсов РГПУ им. А. И. Герцена. Данные включали в себя: \n",
    "</div>\n",
    "<ul>\n",
    "    <li>&nbsp; баллы за ЕГЭ по 3-м предметам</li>\n",
    "    <li>&nbsp; результаты заданий контрольной работы</li>\n",
    "</ul>\n",
    "<div align=\"center\">\n",
    "    При использовании предсказательных инструментов задействованы лишь первые 58, так как первые учились очно, а вторые - уже дистанцинционно, поэтому смешивать их некорректно. Тем более в дистанционном формате результаты по контрольной работе менее справедливы, поэтому группа из 56 человек не была рассмотрена детально.\n",
    "</div>"
   ]
  },
  {
   "cell_type": "markdown",
   "metadata": {
    "slideshow": {
     "slide_type": "slide"
    }
   },
   "source": [
    "<div align=\"center\">\n",
    "    Метрики качества при обученном дереве решений оказались существенно ниже, чем при обученном случайном лесе. В этом можно более подробно убедиться, если посмотреть материалы диссертации. Также выявленная закономерность требует большего количества студентов, чтобы убедиться в корректности предположения.\n",
    "<div align=\"center\">"
   ]
  },
  {
   "cell_type": "markdown",
   "metadata": {
    "slideshow": {
     "slide_type": "slide"
    }
   },
   "source": [
    "<h1 align='center'> Спасибо за внимание! </h1>"
   ]
  }
 ],
 "metadata": {
  "celltoolbar": "Слайд-шоу",
  "kernelspec": {
   "display_name": "Python 3",
   "language": "python",
   "name": "python3"
  },
  "language_info": {
   "codemirror_mode": {
    "name": "ipython",
    "version": 3
   },
   "file_extension": ".py",
   "mimetype": "text/x-python",
   "name": "python",
   "nbconvert_exporter": "python",
   "pygments_lexer": "ipython3",
   "version": "3.8.8"
  }
 },
 "nbformat": 4,
 "nbformat_minor": 4
}
