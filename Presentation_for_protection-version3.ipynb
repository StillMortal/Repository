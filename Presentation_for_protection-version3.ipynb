{
 "cells": [
  {
   "cell_type": "code",
   "execution_count": 6,
   "metadata": {
    "slideshow": {
     "slide_type": "skip"
    }
   },
   "outputs": [],
   "source": [
    "alt.renderers.enable('notebook')"
   ]
  },
  {
   "cell_type": "code",
   "execution_count": 7,
   "metadata": {
    "slideshow": {
     "slide_type": "skip"
    }
   },
   "outputs": [],
   "source": [
    "from sklearn import tree\n",
    "import pandas as pd\n",
    "import matplotlib.pyplot as plt\n",
    "import seaborn as sns\n",
    "%matplotlib inline"
   ]
  },
  {
   "cell_type": "markdown",
   "metadata": {
    "slideshow": {
     "slide_type": "slide"
    }
   },
   "source": [
    "<h1 align='center'> \n",
    "    Предсказательные инструменты машинного обучения при анализе данных обучения на онлайн-курсах \n",
    "</h1>  \n",
    "  \n",
    "<br />  \n",
    "\n",
    "<div align='right'>\n",
    "    Магистрант 2 курса\n",
    "    <br />\n",
    "    <i>\n",
    "        Никандров Алексей Андреевич\n",
    "    </i>\n",
    "</div>\n",
    "\n",
    "<br />  \n",
    "\n",
    "<div align='right'>\n",
    "    Руководитель выпускной квалификационной работы:\n",
    "    <br />  \n",
    "    Доктор педагогических наук, профессор\n",
    "    <br />  \n",
    "    <i>\n",
    "        Пиотровская Ксения Раймондовна\n",
    "    </i>\n",
    "</div>"
   ]
  },
  {
   "cell_type": "markdown",
   "metadata": {
    "slideshow": {
     "slide_type": "slide"
    }
   },
   "source": [
    "<div align=\"center\">\n",
    "    Каждые два года объём хранимой информации увеличивается ~ в два раза. \n",
    "    <img width=800px src=\"https://www.oreilly.com/radar/wp-content/uploads/sites/3/2019/06/Figure2-22-33e23549592a32d6c0e8cee505dfbcd1.jpg\">\n",
    "</div>"
   ]
  },
  {
   "cell_type": "markdown",
   "metadata": {
    "slideshow": {
     "slide_type": "slide"
    }
   },
   "source": [
    "<div align=\"justify\">\n",
    "    Много данных об учебной активности студентов сохраняется в электронном виде, но в настоящий момент это не способствует образовательному процессу, что является <strong>проблемой</strong>.\n",
    "</div>\n",
    "\n",
    "<br />\n",
    "\n",
    "<div style=\"justify\">\n",
    "    <strong>Актуальность:</strong>\n",
    "</div>"
   ]
  },
  {
   "attachments": {},
   "cell_type": "markdown",
   "metadata": {
    "slideshow": {
     "slide_type": "fragment"
    }
   },
   "source": [
    "1. Стихийный рост онлайн курсов и курсов смешанного обучения;"
   ]
  },
  {
   "attachments": {},
   "cell_type": "markdown",
   "metadata": {
    "slideshow": {
     "slide_type": "fragment"
    }
   },
   "source": [
    "2. Отсутствие четких требований к организации курсов, которые проектируются стихийно в средах дистанционного обучения;"
   ]
  },
  {
   "attachments": {},
   "cell_type": "markdown",
   "metadata": {
    "slideshow": {
     "slide_type": "fragment"
    }
   },
   "source": [
    "3. Необходимость в оперативном и своевременном мониторинге цифровых следов обучения с целью оптимизации процесса обучения."
   ]
  },
  {
   "cell_type": "markdown",
   "metadata": {
    "slideshow": {
     "slide_type": "slide"
    }
   },
   "source": [
    "<div align=\"justify\">\n",
    "    <strong>Объект</strong> исследования — процесс обучения на онлайн-курсах.\n",
    "</div>\n",
    "\n",
    "<br />\n",
    "\n",
    "<div align=\"justify\">\n",
    "    <strong>Предметом</strong> исследования являются предсказательные инструменты как способ анализа данных обучения на онлайн-курсах.\n",
    "</div>\n",
    "\n",
    "<br />\n",
    "\n",
    "<div align=\"justify\">\n",
    "    <strong>Цель</strong> данной работы собрать и провести анализ актуальных данных с онлайн-курсов с помощью подобранных предсказательных инструментов для получения обученной прогностической модели с последующей оптимизацией организации онлайн-курсов и персонификации обучения, а также изучения перспектив, способствующих улучшению показателей последующих студентов.\n",
    "</div>"
   ]
  },
  {
   "cell_type": "markdown",
   "metadata": {
    "slideshow": {
     "slide_type": "slide"
    }
   },
   "source": [
    "<div align=\"justify\">\n",
    "<strong>Научная новизна</strong> впервые предсказательные инструменты применены на актуальных данных об обучении студентов на онлайн-курсах, созданных в СДО Moodle в Российском государственном педагогическом университете им. А.И. Герцена.\n",
    "</div>\n",
    "\n",
    "<br />\n",
    "\n",
    "<div align=\"justify\">\n",
    "<strong>Теоретическая значимость</strong> исследования заключается в анализе и отборе актуального предсказательного инструментария для оптимизации образовательного процесса на онлайн Moodle-курсах.\n",
    "</div>\n",
    "\n",
    "<br />\n",
    "\n",
    "<div align=\"justify\">\n",
    "<strong>Практическая значимость</strong> настоящей работы заключается в выявлении с помощью предсказательных инструментов тенденций роста успеваемости и повышения интереса у учащихся к изучаемому предмету на непрофильных направлениях подготовки.\n",
    "</div>"
   ]
  },
  {
   "cell_type": "markdown",
   "metadata": {
    "slideshow": {
     "slide_type": "slide"
    }
   },
   "source": [
    "<div align=\"center\">\n",
    "    <strong>Задачи исследования.</strong>\n",
    "</div>"
   ]
  },
  {
   "cell_type": "markdown",
   "metadata": {
    "slideshow": {
     "slide_type": "fragment"
    }
   },
   "source": [
    "1. Дать определение основных понятий, связанных с анализом данных и предсказательными инструментами."
   ]
  },
  {
   "cell_type": "markdown",
   "metadata": {
    "slideshow": {
     "slide_type": "fragment"
    }
   },
   "source": [
    "2. Исследовать возможные подходы для построения прогностических моделей в сфере образования."
   ]
  },
  {
   "cell_type": "markdown",
   "metadata": {
    "slideshow": {
     "slide_type": "fragment"
    }
   },
   "source": [
    "3. Изучив потенциал языка программирования Python как инструмента анализа данных, получить представление о функционале библиотек языка Python."
   ]
  },
  {
   "cell_type": "markdown",
   "metadata": {
    "slideshow": {
     "slide_type": "fragment"
    }
   },
   "source": [
    "4. Собрать и провести обработку данных на онлайн-курсе «Основы математической обработки информации»."
   ]
  },
  {
   "cell_type": "markdown",
   "metadata": {
    "slideshow": {
     "slide_type": "fragment"
    }
   },
   "source": [
    "5. Осуществление показательной классификации на две группы при проведении анализа результатов студенческих работ."
   ]
  },
  {
   "cell_type": "markdown",
   "metadata": {
    "slideshow": {
     "slide_type": "slide"
    }
   },
   "source": [
    "<div align='justify'>\n",
    "    Задача 1. Дать определение основных понятий, связанных с анализом данных и предсказательными инструментами: \n",
    "</div>"
   ]
  },
  {
   "cell_type": "markdown",
   "metadata": {
    "slideshow": {
     "slide_type": "fragment"
    }
   },
   "source": [
    "• Раздел информатики «Наука о данных»;\n",
    "\n",
    "Наука о данных — раздел информатики, изучающий проблемы анализа, обработки и представления данных в цифровой форме."
   ]
  },
  {
   "cell_type": "markdown",
   "metadata": {
    "slideshow": {
     "slide_type": "fragment"
    }
   },
   "source": [
    "• Определение машинного обучения;\n",
    "\n",
    "<br/>\n",
    "\n",
    "<div align=\"justify\">\n",
    "Будем использовать следующее общее определение: <strong>машинным обучением</strong> называется систематическое обучение алгоритмов и систем, в результате которого их знания или качество работы возрастают по мере накопления опыта\n",
    "</div>"
   ]
  },
  {
   "cell_type": "markdown",
   "metadata": {
    "slideshow": {
     "slide_type": "fragment"
    }
   },
   "source": [
    "• Категории машинного обучения, а именно: обучение с учителем, обучение без учителя и обучение с подкреплением;"
   ]
  },
  {
   "cell_type": "markdown",
   "metadata": {
    "slideshow": {
     "slide_type": "slide"
    }
   },
   "source": [
    "• Составляющие машинного обучения.  "
   ]
  },
  {
   "cell_type": "markdown",
   "metadata": {
    "slideshow": {
     "slide_type": "fragment"
    }
   },
   "source": [
    "1. Формулирование задачи на языке машинного обучения"
   ]
  },
  {
   "cell_type": "markdown",
   "metadata": {
    "slideshow": {
     "slide_type": "fragment"
    }
   },
   "source": [
    "2. Подготовка данных"
   ]
  },
  {
   "cell_type": "markdown",
   "metadata": {
    "slideshow": {
     "slide_type": "fragment"
    }
   },
   "source": [
    "3. Применение машинного обучения (использование некоторого программного кода)"
   ]
  },
  {
   "cell_type": "markdown",
   "metadata": {
    "slideshow": {
     "slide_type": "fragment"
    }
   },
   "source": [
    "4. Валидация модели"
   ]
  },
  {
   "cell_type": "markdown",
   "metadata": {
    "slideshow": {
     "slide_type": "slide"
    }
   },
   "source": [
    "<div aling='justify'>\n",
    "    Задача 2. Исследовать возможные подходы для построения прогностических моделей в сфере образования:\n",
    "</div>            "
   ]
  },
  {
   "cell_type": "markdown",
   "metadata": {
    "slideshow": {
     "slide_type": "fragment"
    }
   },
   "source": [
    "• дерево решений;"
   ]
  },
  {
   "cell_type": "markdown",
   "metadata": {
    "slideshow": {
     "slide_type": "fragment"
    }
   },
   "source": [
    "• случайный лес, фундаментом которого является дерево решений."
   ]
  },
  {
   "cell_type": "markdown",
   "metadata": {
    "slideshow": {
     "slide_type": "fragment"
    }
   },
   "source": [
    "<div align='justify'>\n",
    "    В дополнение к двум перечисленным подходам рассмотрены их метрики оценки качества.\n",
    "</div>"
   ]
  },
  {
   "cell_type": "markdown",
   "metadata": {
    "slideshow": {
     "slide_type": "slide"
    }
   },
   "source": [
    "<div aling='justify'>\n",
    "    Задача 3. Изучив потенциал языка программирования Python как инструмента анализа данных, получить представление о функционале его библиотек:\n",
    "</div>"
   ]
  },
  {
   "cell_type": "markdown",
   "metadata": {
    "slideshow": {
     "slide_type": "fragment"
    }
   },
   "source": [
    "• Pandas. Библиотека, которая используется для работы с датафреймами. Отвечает за исследование данных, их структурирование, фильтрацию, агрегацию;"
   ]
  },
  {
   "cell_type": "markdown",
   "metadata": {
    "slideshow": {
     "slide_type": "fragment"
    }
   },
   "source": [
    "• Библиотеки для визуализации данных, а именно: Matplotlib, Seaborn;"
   ]
  },
  {
   "cell_type": "markdown",
   "metadata": {
    "slideshow": {
     "slide_type": "fragment"
    }
   },
   "source": [
    "• Scikit-learn. Библиотека для машинного обучения."
   ]
  },
  {
   "cell_type": "markdown",
   "metadata": {
    "slideshow": {
     "slide_type": "fragment"
    }
   },
   "source": [
    "<div aling='justify'>\n",
    "    Возможности библиотек реализуются в интерактивном веб-инструменте Jupyter notebook.\n",
    "</div>"
   ]
  },
  {
   "cell_type": "markdown",
   "metadata": {
    "slideshow": {
     "slide_type": "slide"
    }
   },
   "source": [
    "<div align='justify'>\n",
    "    Задача 4. Собрать и провести обработку данных на онлайн-курсе «Основы математической обработки информации». \n",
    " \n",
    "<br />\n",
    "<br />\n",
    "Онлайн-курс «Основы математической обработки информации» относится к типу закрытых онлайн-курсов, которые имитируют традиционную среду в аудитории лицом к лицу.\n",
    "<br />\n",
    "    \n",
    "В остальном задача заключалась в привлечении образовательной активности студентов двух потоков (58 человек за 2019-2020 и 56 за 2020-2021 года) на онлайн-курсе «Основы математической обработки информации» системы Herzen Moodle.\n",
    "</div>"
   ]
  },
  {
   "cell_type": "markdown",
   "metadata": {
    "slideshow": {
     "slide_type": "slide"
    }
   },
   "source": [
    "<div align='justify'>\n",
    "    Задача 5. Осуществление показательной классификации на две группы при проведении анализа результатов студенческих работ.\n",
    "    \n",
    "<br />\n",
    "<br />\n",
    "    \n",
    "Разбивается на две подзадачи, а именно: подбор признаков и поиск целевой переменной, обучение предсказательного инструмента.\n",
    "</div>"
   ]
  },
  {
   "cell_type": "markdown",
   "metadata": {
    "slideshow": {
     "slide_type": "fragment"
    }
   },
   "source": [
    "<div align='justify'>\n",
    "    Под признаками в данной диссертации использовались баллы за ЕГЭ по 3 предметам: русский язык, обществознание и иностранный язык. Они были в свободном доступе на сайте РГПУ им. А. И. Герцена. Целевая переменная – результаты одной задачи определённой темы дисциплины «Основы математической обработки информации» (с двумя возможными исходами: сдал, не сдал или 0, 1).\n",
    "</div>"
   ]
  },
  {
   "cell_type": "markdown",
   "metadata": {
    "slideshow": {
     "slide_type": "fragment"
    }
   },
   "source": [
    "<div align='justify'>\n",
    "    После извлечения, обработки признаков и их сопоставления со значениями целевой переменной (сопоставление проводилось по ФИО студентов) удалось обучить предсказательный инструмент (модель) дерево решений.\n",
    "</div>"
   ]
  },
  {
   "cell_type": "markdown",
   "metadata": {
    "slideshow": {
     "slide_type": "slide"
    }
   },
   "source": [
    "Сравнение метрик дерева решений и случайного леса:"
   ]
  },
  {
   "cell_type": "markdown",
   "metadata": {
    "slideshow": {
     "slide_type": "fragment"
    }
   },
   "source": [
    "• Доля правильных ответов 0.58 и 0.63;"
   ]
  },
  {
   "cell_type": "markdown",
   "metadata": {
    "slideshow": {
     "slide_type": "fragment"
    }
   },
   "source": [
    "• Точность 0.69 и 0.75;"
   ]
  },
  {
   "cell_type": "markdown",
   "metadata": {
    "slideshow": {
     "slide_type": "fragment"
    }
   },
   "source": [
    "• Полнота 0.69 и 0.69."
   ]
  },
  {
   "cell_type": "markdown",
   "metadata": {
    "slideshow": {
     "slide_type": "slide"
    }
   },
   "source": [
    "<div align='justify'>\n",
    "    При передаче обученным моделям новых (ранее невиданных) сведений студентов о ЕГЭ можно будет узнать ещё до начала занятий их прогнозируемые показатели по определённой задаче дисциплины. Тем самым уделить больше внимания потенциально сложным темам (по которым будут даны потенциально сложные задачи). Например, добавить больше разобранных примеров в материалы лекций онлайн-курса.\n",
    "</div>"
   ]
  },
  {
   "cell_type": "markdown",
   "metadata": {
    "slideshow": {
     "slide_type": "slide"
    }
   },
   "source": [
    "<h1 align='center'> Спасибо за внимание! </h1>"
   ]
  }
 ],
 "metadata": {
  "celltoolbar": "Слайд-шоу",
  "kernelspec": {
   "display_name": "Python 3",
   "language": "python",
   "name": "python3"
  },
  "language_info": {
   "codemirror_mode": {
    "name": "ipython",
    "version": 3
   },
   "file_extension": ".py",
   "mimetype": "text/x-python",
   "name": "python",
   "nbconvert_exporter": "python",
   "pygments_lexer": "ipython3",
   "version": "3.8.8"
  }
 },
 "nbformat": 4,
 "nbformat_minor": 4
}
